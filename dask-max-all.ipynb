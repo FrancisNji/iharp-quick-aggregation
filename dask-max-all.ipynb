{
 "cells": [
  {
   "cell_type": "code",
   "execution_count": null,
   "metadata": {},
   "outputs": [],
   "source": [
    "from dask.distributed import LocalCluster\n",
    "\n",
    "cluster = LocalCluster(n_workers=10)  # Fully-featured local Dask cluster\n",
    "# cluster = LocalCluster()\n",
    "client = cluster.get_client()\n",
    "client"
   ]
  },
  {
   "cell_type": "code",
   "execution_count": null,
   "metadata": {},
   "outputs": [],
   "source": [
    "import numpy as np\n",
    "\n",
    "\n",
    "def compute_scale_and_offset_mm(min, max, n=16):\n",
    "    vmin = min\n",
    "    vmax = max\n",
    "    # stretch/compress data to the available packed range\n",
    "    scale_factor = (vmax - vmin) / (2**n - 1)\n",
    "    # translate the range to be symmetric about zero\n",
    "    add_offset = vmin + 2 ** (n - 1) * scale_factor\n",
    "    print(scale_factor, add_offset)\n",
    "    return scale_factor, add_offset\n",
    "\n",
    "\n",
    "def compute_scale_and_offset(na):\n",
    "    vmin = np.min(na).item()\n",
    "    vmax = np.max(na).item()\n",
    "    return compute_scale_and_offset_mm(vmin, vmax)\n",
    "\n",
    "\n",
    "def get_min_max_from_persist(pers_array):\n",
    "    v_min = pers_array.min().compute().values.item()\n",
    "    v_max = pers_array.max().compute().values.item()\n",
    "    print(v_min, v_max)\n",
    "    return v_min, v_max\n",
    "\n",
    "\n",
    "def get_scale_offset_from_persist(pers_array):\n",
    "    v_min, v_max = get_min_max_from_persist(pers_array)\n",
    "    return compute_scale_and_offset_mm(v_min, v_max)"
   ]
  },
  {
   "cell_type": "code",
   "execution_count": null,
   "metadata": {},
   "outputs": [],
   "source": [
    "import xarray as xr\n",
    "\n",
    "days = []\n",
    "\n",
    "for cur_year in range(1984, 2024):\n",
    "    ds = xr.open_dataset(\n",
    "        f\"/data/era5/raw/2m_temperature/2m_temperature-{cur_year}.nc\",\n",
    "        chunks={\"time\": 24},\n",
    "    )\n",
    "    day = ds.resample(time=\"D\").max()\n",
    "    days.append(day)\n",
    "\n",
    "day_concet = xr.concat(days, dim=\"time\")"
   ]
  },
  {
   "cell_type": "code",
   "execution_count": null,
   "metadata": {},
   "outputs": [],
   "source": [
    "persisted = client.persist(day_concet)\n",
    "day_scale, day_offset = get_scale_offset_from_persist(persisted[\"t2m\"])\n",
    "\n",
    "persisted.to_netcdf(\n",
    "    \"data/output/2m_temperature-day-max.nc\",\n",
    "    encoding={\n",
    "        \"t2m\": {\n",
    "            \"dtype\": \"int16\",\n",
    "            \"missing_value\": -32767,\n",
    "            \"_FillValue\": -32767,\n",
    "            \"scale_factor\": day_scale,\n",
    "            \"add_offset\": day_offset,\n",
    "        }\n",
    "    },\n",
    ")"
   ]
  },
  {
   "cell_type": "markdown",
   "metadata": {},
   "source": [
    "# month"
   ]
  },
  {
   "cell_type": "code",
   "execution_count": null,
   "metadata": {},
   "outputs": [],
   "source": [
    "month = persisted.resample(time=\"ME\").max()\n",
    "persisted_month = client.persist(month)\n",
    "month_scale, month_offset = get_scale_offset_from_persist(persisted_month[\"t2m\"])\n",
    "\n",
    "persisted_month.to_netcdf(\n",
    "    \"data/output/2m_temperature-month-max.nc\",\n",
    "    encoding={\n",
    "        \"t2m\": {\n",
    "            \"dtype\": \"int16\",\n",
    "            \"missing_value\": -32767,\n",
    "            \"_FillValue\": -32767,\n",
    "            \"scale_factor\": month_scale,\n",
    "            \"add_offset\": month_offset,\n",
    "        }\n",
    "    },\n",
    ")"
   ]
  },
  {
   "cell_type": "markdown",
   "metadata": {},
   "source": [
    "# year"
   ]
  },
  {
   "cell_type": "code",
   "execution_count": null,
   "metadata": {},
   "outputs": [],
   "source": [
    "year = persisted_month.resample(time=\"YE\").max()\n",
    "persisted_year = client.persist(year)\n",
    "year_scale, year_offset = get_scale_offset_from_persist(persisted_year[\"t2m\"])\n",
    "\n",
    "persisted_year.to_netcdf(\n",
    "    \"data/output/2m_temperature-year-max.nc\",\n",
    "    encoding={\n",
    "        \"t2m\": {\n",
    "            \"dtype\": \"int16\",\n",
    "            \"missing_value\": -32767,\n",
    "            \"_FillValue\": -32767,\n",
    "            \"scale_factor\": year_scale,\n",
    "            \"add_offset\": year_offset,\n",
    "        }\n",
    "    },\n",
    ")"
   ]
  },
  {
   "cell_type": "markdown",
   "metadata": {},
   "source": [
    "# End"
   ]
  },
  {
   "cell_type": "code",
   "execution_count": null,
   "metadata": {},
   "outputs": [],
   "source": [
    "cluster.close()"
   ]
  },
  {
   "cell_type": "markdown",
   "metadata": {},
   "source": [
    "# Check"
   ]
  },
  {
   "cell_type": "code",
   "execution_count": null,
   "metadata": {},
   "outputs": [],
   "source": [
    "import xarray as xr\n",
    "ds = xr.open_dataset(\"data/output/2m_temperature-day-max.nc\")\n",
    "ds"
   ]
  },
  {
   "cell_type": "code",
   "execution_count": null,
   "metadata": {},
   "outputs": [],
   "source": []
  }
 ],
 "metadata": {
  "kernelspec": {
   "display_name": "venv",
   "language": "python",
   "name": "python3"
  },
  "language_info": {
   "codemirror_mode": {
    "name": "ipython",
    "version": 3
   },
   "file_extension": ".py",
   "mimetype": "text/x-python",
   "name": "python",
   "nbconvert_exporter": "python",
   "pygments_lexer": "ipython3",
   "version": "3.11.9"
  }
 },
 "nbformat": 4,
 "nbformat_minor": 2
}
